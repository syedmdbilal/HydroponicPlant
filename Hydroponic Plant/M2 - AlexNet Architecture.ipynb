{
 "cells": [
  {
   "cell_type": "markdown",
   "metadata": {},
   "source": [
    "# AlexNet Architecture"
   ]
  },
  {
   "cell_type": "code",
   "execution_count": 1,
   "metadata": {},
   "outputs": [],
   "source": [
    "import warnings\n",
    "warnings.filterwarnings('ignore')"
   ]
  },
  {
   "cell_type": "code",
   "execution_count": 2,
   "metadata": {},
   "outputs": [],
   "source": [
    "import os\n",
    "import glob\n",
    "import numpy as np\n",
    "import pandas as pd\n",
    "from PIL import Image\n",
    "import numpy as np\n",
    "import matplotlib.pyplot as plt\n",
    "from tensorflow.keras.preprocessing.image import ImageDataGenerator\n",
    "from tensorflow.keras.layers import Activation\n",
    "from keras.callbacks import ModelCheckpoint\n",
    "from tensorflow.keras.models import Sequential\n",
    "from tensorflow.keras.layers import Conv2D\n",
    "from tensorflow.keras.layers import Convolution2D\n",
    "from tensorflow.keras.layers import Dropout\n",
    "from tensorflow.keras.layers import MaxPool2D\n",
    "from tensorflow.keras.layers import MaxPooling2D\n",
    "from tensorflow.keras.layers import Flatten\n",
    "from tensorflow.keras.layers import Dense"
   ]
  },
  {
   "cell_type": "code",
   "execution_count": 3,
   "metadata": {},
   "outputs": [],
   "source": [
    "train_datagen=ImageDataGenerator(rescale=1./255,shear_range=0.2,zoom_range=0.2,horizontal_flip=True)\n",
    "test_datagen=ImageDataGenerator(rescale=1./255)"
   ]
  },
  {
   "cell_type": "code",
   "execution_count": 4,
   "metadata": {},
   "outputs": [
    {
     "name": "stdout",
     "output_type": "stream",
     "text": [
      "Found 6000 images belonging to 12 classes.\n",
      "Found 1200 images belonging to 12 classes.\n"
     ]
    }
   ],
   "source": [
    "training_set=train_datagen.flow_from_directory('dataset/train',target_size=(224,224),batch_size=32,class_mode='categorical')\n",
    "test_set=test_datagen.flow_from_directory('dataset/test',target_size=(224,224),batch_size=32,class_mode='categorical')"
   ]
  },
  {
   "cell_type": "code",
   "execution_count": 5,
   "metadata": {},
   "outputs": [],
   "source": [
    "callbacks = [ModelCheckpoint(\"AlexNet.h5\", monitor='accuracy', verbose=1, save_best_only=True)]"
   ]
  },
  {
   "cell_type": "code",
   "execution_count": 6,
   "metadata": {},
   "outputs": [
    {
     "name": "stdout",
     "output_type": "stream",
     "text": [
      "Model: \"sequential\"\n",
      "_________________________________________________________________\n",
      "Layer (type)                 Output Shape              Param #   \n",
      "=================================================================\n",
      "conv2d (Conv2D)              (None, 55, 55, 96)        34944     \n",
      "_________________________________________________________________\n",
      "activation (Activation)      (None, 55, 55, 96)        0         \n",
      "_________________________________________________________________\n",
      "max_pooling2d (MaxPooling2D) (None, 27, 27, 96)        0         \n",
      "_________________________________________________________________\n",
      "conv2d_1 (Conv2D)            (None, 17, 17, 256)       2973952   \n",
      "_________________________________________________________________\n",
      "activation_1 (Activation)    (None, 17, 17, 256)       0         \n",
      "_________________________________________________________________\n",
      "max_pooling2d_1 (MaxPooling2 (None, 8, 8, 256)         0         \n",
      "_________________________________________________________________\n",
      "conv2d_2 (Conv2D)            (None, 6, 6, 384)         885120    \n",
      "_________________________________________________________________\n",
      "activation_2 (Activation)    (None, 6, 6, 384)         0         \n",
      "_________________________________________________________________\n",
      "conv2d_3 (Conv2D)            (None, 4, 4, 384)         1327488   \n",
      "_________________________________________________________________\n",
      "activation_3 (Activation)    (None, 4, 4, 384)         0         \n",
      "_________________________________________________________________\n",
      "conv2d_4 (Conv2D)            (None, 2, 2, 256)         884992    \n",
      "_________________________________________________________________\n",
      "activation_4 (Activation)    (None, 2, 2, 256)         0         \n",
      "_________________________________________________________________\n",
      "max_pooling2d_2 (MaxPooling2 (None, 1, 1, 256)         0         \n",
      "_________________________________________________________________\n",
      "flatten (Flatten)            (None, 256)               0         \n",
      "_________________________________________________________________\n",
      "dense (Dense)                (None, 4096)              1052672   \n",
      "_________________________________________________________________\n",
      "activation_5 (Activation)    (None, 4096)              0         \n",
      "_________________________________________________________________\n",
      "dropout (Dropout)            (None, 4096)              0         \n",
      "_________________________________________________________________\n",
      "dense_1 (Dense)              (None, 4096)              16781312  \n",
      "_________________________________________________________________\n",
      "activation_6 (Activation)    (None, 4096)              0         \n",
      "_________________________________________________________________\n",
      "dropout_1 (Dropout)          (None, 4096)              0         \n",
      "_________________________________________________________________\n",
      "dense_2 (Dense)              (None, 1000)              4097000   \n",
      "_________________________________________________________________\n",
      "activation_7 (Activation)    (None, 1000)              0         \n",
      "_________________________________________________________________\n",
      "dropout_2 (Dropout)          (None, 1000)              0         \n",
      "_________________________________________________________________\n",
      "dense_3 (Dense)              (None, 12)                12012     \n",
      "_________________________________________________________________\n",
      "activation_8 (Activation)    (None, 12)                0         \n",
      "=================================================================\n",
      "Total params: 28,049,492\n",
      "Trainable params: 28,049,492\n",
      "Non-trainable params: 0\n",
      "_________________________________________________________________\n"
     ]
    }
   ],
   "source": [
    "model = Sequential()\n",
    "# 1st Convolutional Layer\n",
    "model.add(Conv2D(filters=96, input_shape=(228,228,3), kernel_size=(11,11), strides=(4,4), padding='valid'))\n",
    "model.add(Activation('relu'))\n",
    "# Max Pooling\n",
    "model.add(MaxPooling2D(pool_size=(2,2), strides=(2,2), padding='valid'))\n",
    "# 2nd Convolutional Layer\n",
    "model.add(Conv2D(filters=256, kernel_size=(11,11), strides=(1,1), padding='valid'))\n",
    "model.add(Activation('relu'))\n",
    "# Max Pooling\n",
    "model.add(MaxPooling2D(pool_size=(2,2), strides=(2,2), padding='valid'))\n",
    "# 3rd Convolutional Layer\n",
    "model.add(Conv2D(filters=384, kernel_size=(3,3), strides=(1,1), padding='valid'))\n",
    "model.add(Activation('relu'))\n",
    "# 4th Convolutional Layer\n",
    "model.add(Conv2D(filters=384, kernel_size=(3,3), strides=(1,1), padding='valid'))\n",
    "model.add(Activation('relu'))\n",
    "# 5th Convolutional Layer\n",
    "model.add(Conv2D(filters=256, kernel_size=(3,3), strides=(1,1), padding='valid'))\n",
    "model.add(Activation('relu'))\n",
    "# Max Pooling\n",
    "model.add(MaxPooling2D(pool_size=(2,2), strides=(2,2), padding='valid'))\n",
    "# Passing it to a Fully Connected layer\n",
    "model.add(Flatten())\n",
    "# 1st Fully Connected Layer\n",
    "model.add(Dense(4096, input_shape=(228*228*3,)))\n",
    "model.add(Activation('relu'))\n",
    "# Add Dropout to prevent overfitting\n",
    "model.add(Dropout(0.4))\n",
    "# 2nd Fully Connected Layer\n",
    "model.add(Dense(4096))\n",
    "model.add(Activation('relu'))\n",
    "# Add Dropout\n",
    "model.add(Dropout(0.4))\n",
    "# 3rd Fully Connected Layer\n",
    "model.add(Dense(1000))\n",
    "model.add(Activation('relu'))\n",
    "# Add Dropout\n",
    "model.add(Dropout(0.4))\n",
    "# Output Layer\n",
    "model.add(Dense(12))\n",
    "model.add(Activation('softmax'))\n",
    "model.summary()\n",
    "\n",
    "# Compile the model\n",
    "model.compile(loss = 'categorical_crossentropy', optimizer='adam', metrics=['accuracy'])"
   ]
  },
  {
   "cell_type": "code",
   "execution_count": 9,
   "metadata": {},
   "outputs": [],
   "source": [
    "epochs = 20\n",
    "batch_size = 32"
   ]
  },
  {
   "cell_type": "code",
   "execution_count": 10,
   "metadata": {},
   "outputs": [
    {
     "name": "stdout",
     "output_type": "stream",
     "text": [
      "Epoch 1/20\n",
      "12/12 [==============================] - 33s 3s/step - loss: 2.4860 - accuracy: 0.0885 - val_loss: 2.4836 - val_accuracy: 0.1094\n",
      "\n",
      "Epoch 00001: accuracy improved from -inf to 0.08854, saving model to AlexNet.h5\n",
      "Epoch 2/20\n",
      "12/12 [==============================] - 33s 3s/step - loss: 2.4861 - accuracy: 0.0859 - val_loss: 2.4804 - val_accuracy: 0.1875\n",
      "\n",
      "Epoch 00002: accuracy did not improve from 0.08854\n",
      "Epoch 3/20\n",
      "12/12 [==============================] - 37s 3s/step - loss: 2.4865 - accuracy: 0.0677 - val_loss: 2.4864 - val_accuracy: 0.0781\n",
      "\n",
      "Epoch 00003: accuracy did not improve from 0.08854\n",
      "Epoch 4/20\n",
      "12/12 [==============================] - 35s 3s/step - loss: 2.4853 - accuracy: 0.0781 - val_loss: 2.4814 - val_accuracy: 0.1250\n",
      "\n",
      "Epoch 00004: accuracy did not improve from 0.08854\n",
      "Epoch 5/20\n",
      "12/12 [==============================] - 32s 3s/step - loss: 2.4857 - accuracy: 0.0755 - val_loss: 2.4886 - val_accuracy: 0.1094\n",
      "\n",
      "Epoch 00005: accuracy did not improve from 0.08854\n",
      "Epoch 6/20\n",
      "12/12 [==============================] - 33s 3s/step - loss: 2.4864 - accuracy: 0.0781 - val_loss: 2.4894 - val_accuracy: 0.0469\n",
      "\n",
      "Epoch 00006: accuracy did not improve from 0.08854\n",
      "Epoch 7/20\n",
      "12/12 [==============================] - 38s 3s/step - loss: 2.4833 - accuracy: 0.0807 - val_loss: 2.4854 - val_accuracy: 0.1094\n",
      "\n",
      "Epoch 00007: accuracy did not improve from 0.08854\n",
      "Epoch 8/20\n",
      "12/12 [==============================] - 33s 3s/step - loss: 2.4832 - accuracy: 0.0677 - val_loss: 2.4826 - val_accuracy: 0.0938\n",
      "\n",
      "Epoch 00008: accuracy did not improve from 0.08854\n",
      "Epoch 9/20\n",
      "12/12 [==============================] - 35s 3s/step - loss: 2.4855 - accuracy: 0.0990 - val_loss: 2.4868 - val_accuracy: 0.0469\n",
      "\n",
      "Epoch 00009: accuracy improved from 0.08854 to 0.09896, saving model to AlexNet.h5\n",
      "Epoch 10/20\n",
      "12/12 [==============================] - 35s 3s/step - loss: 2.4899 - accuracy: 0.0547 - val_loss: 2.4834 - val_accuracy: 0.0781\n",
      "\n",
      "Epoch 00010: accuracy did not improve from 0.09896\n",
      "Epoch 11/20\n",
      "12/12 [==============================] - 33s 3s/step - loss: 2.4886 - accuracy: 0.0599 - val_loss: 2.4860 - val_accuracy: 0.0625\n",
      "\n",
      "Epoch 00011: accuracy did not improve from 0.09896\n",
      "Epoch 12/20\n",
      "12/12 [==============================] - 33s 3s/step - loss: 2.4869 - accuracy: 0.0547 - val_loss: 2.4817 - val_accuracy: 0.1250\n",
      "\n",
      "Epoch 00012: accuracy did not improve from 0.09896\n",
      "Epoch 13/20\n",
      "12/12 [==============================] - 34s 3s/step - loss: 2.4859 - accuracy: 0.0703 - val_loss: 2.4822 - val_accuracy: 0.1406\n",
      "\n",
      "Epoch 00013: accuracy did not improve from 0.09896\n",
      "Epoch 14/20\n",
      "12/12 [==============================] - 38s 3s/step - loss: 2.4846 - accuracy: 0.0964 - val_loss: 2.4845 - val_accuracy: 0.1094\n",
      "\n",
      "Epoch 00014: accuracy did not improve from 0.09896\n",
      "Epoch 15/20\n",
      "12/12 [==============================] - 33s 3s/step - loss: 2.4867 - accuracy: 0.0573 - val_loss: 2.4875 - val_accuracy: 0.0781\n",
      "\n",
      "Epoch 00015: accuracy did not improve from 0.09896\n",
      "Epoch 16/20\n",
      "12/12 [==============================] - 35s 3s/step - loss: 2.4875 - accuracy: 0.0729 - val_loss: 2.4849 - val_accuracy: 0.0625\n",
      "\n",
      "Epoch 00016: accuracy did not improve from 0.09896\n",
      "Epoch 17/20\n",
      "12/12 [==============================] - 32s 3s/step - loss: 2.4847 - accuracy: 0.0859 - val_loss: 2.4835 - val_accuracy: 0.1094\n",
      "\n",
      "Epoch 00017: accuracy did not improve from 0.09896\n",
      "Epoch 18/20\n",
      "12/12 [==============================] - 32s 3s/step - loss: 2.4849 - accuracy: 0.0990 - val_loss: 2.4846 - val_accuracy: 0.0625\n",
      "\n",
      "Epoch 00018: accuracy did not improve from 0.09896\n",
      "Epoch 19/20\n",
      "12/12 [==============================] - 31s 3s/step - loss: 2.4853 - accuracy: 0.1042 - val_loss: 2.4873 - val_accuracy: 0.0938\n",
      "\n",
      "Epoch 00019: accuracy improved from 0.09896 to 0.10417, saving model to AlexNet.h5\n",
      "Epoch 20/20\n",
      "12/12 [==============================] - 31s 3s/step - loss: 2.4853 - accuracy: 0.0833 - val_loss: 2.4870 - val_accuracy: 0.0469\n",
      "\n",
      "Epoch 00020: accuracy did not improve from 0.10417\n"
     ]
    }
   ],
   "source": [
    "#### Fitting the model\n",
    "history = model.fit(\n",
    "           training_set, steps_per_epoch=training_set.samples // batch_size, \n",
    "           epochs=epochs, \n",
    "           validation_data=test_set,validation_steps=test_set.samples // batch_size, callbacks=callbacks)"
   ]
  },
  {
   "cell_type": "code",
   "execution_count": 11,
   "metadata": {},
   "outputs": [
    {
     "data": {
      "image/png": "[encoded data removed]",
      "text/plain": [
       "<Figure size 432x288 with 1 Axes>"
      ]
     },
     "metadata": {
      "needs_background": "light"
     },
     "output_type": "display_data"
    },
    {
     "data": {
      "image/png": "[encoded data removed]",
      "text/plain": [
       "<Figure size 432x288 with 1 Axes>"
      ]
     },
     "metadata": {
      "needs_background": "light"
     },
     "output_type": "display_data"
    }
   ],
   "source": [
    "def plot():\n",
    "    #Plot training & validation accuracy values\n",
    "    plt.plot(history.history['accuracy'])\n",
    "    plt.plot(history.history['val_accuracy'])\n",
    "    plt.title('Model accuracy')\n",
    "    plt.ylabel('Accuracy')\n",
    "    plt.xlabel('Epoch')\n",
    "    plt.legend(['Train', 'Test'], loc='upper left')\n",
    "    plt.show()\n",
    "\n",
    "    # Plot training & validation loss values\n",
    "    plt.plot(history.history['loss'])\n",
    "    plt.plot(history.history['val_loss'])\n",
    "    plt.title('Model loss')\n",
    "    plt.ylabel('Loss')\n",
    "    plt.xlabel('Epoch')\n",
    "    plt.legend(['Train', 'Test'], loc='upper left')\n",
    "    plt.show()\n",
    "plot()"
   ]
  },
  {
   "cell_type": "code",
   "execution_count": null,
   "metadata": {},
   "outputs": [],
   "source": []
  },
  {
   "cell_type": "code",
   "execution_count": null,
   "metadata": {},
   "outputs": [],
   "source": []
  },
  {
   "cell_type": "code",
   "execution_count": null,
   "metadata": {},
   "outputs": [],
   "source": []
  }
 ],
 "metadata": {
  "kernelspec": {
   "display_name": "Python 3 (ipykernel)",
   "language": "python",
   "name": "python3"
  },
  "language_info": {
   "codemirror_mode": {
    "name": "ipython",
    "version": 3
   },
   "file_extension": ".py",
   "mimetype": "text/x-python",
   "name": "python",
   "nbconvert_exporter": "python",
   "pygments_lexer": "ipython3",
   "version": "3.9.13"
  }
 },
 "nbformat": 4,
 "nbformat_minor": 4
}
